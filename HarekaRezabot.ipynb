{
  "cells": [
    {
      "cell_type": "markdown",
      "metadata": {
        "id": "view-in-github",
        "colab_type": "text"
      },
      "source": [
        "<a href=\"https://colab.research.google.com/github/Lukham/HarekaRezabot/blob/main/HarekaRezabot.ipynb\" target=\"_parent\"><img src=\"https://colab.research.google.com/assets/colab-badge.svg\" alt=\"Open In Colab\"/></a>"
      ]
    },
    {
      "cell_type": "code",
      "execution_count": null,
      "metadata": {
        "colab": {
          "base_uri": "https://localhost:8080/"
        },
        "id": "FMTtOQuwXVjk",
        "outputId": "68ff59a5-90d4-4b90-cb4d-3361cdb5e961"
      },
      "outputs": [
        {
          "output_type": "stream",
          "name": "stdout",
          "text": [
            "Looking in indexes: https://pypi.org/simple, https://us-python.pkg.dev/colab-wheels/public/simple/\n",
            "Collecting pyTelegramBotAPI\n",
            "  Downloading pyTelegramBotAPI-4.6.0.tar.gz (160 kB)\n",
            "\u001b[K     |████████████████████████████████| 160 kB 8.1 MB/s \n",
            "\u001b[?25hRequirement already satisfied: requests in /usr/local/lib/python3.7/dist-packages (from pyTelegramBotAPI) (2.23.0)\n",
            "Requirement already satisfied: urllib3!=1.25.0,!=1.25.1,<1.26,>=1.21.1 in /usr/local/lib/python3.7/dist-packages (from requests->pyTelegramBotAPI) (1.24.3)\n",
            "Requirement already satisfied: chardet<4,>=3.0.2 in /usr/local/lib/python3.7/dist-packages (from requests->pyTelegramBotAPI) (3.0.4)\n",
            "Requirement already satisfied: certifi>=2017.4.17 in /usr/local/lib/python3.7/dist-packages (from requests->pyTelegramBotAPI) (2022.6.15)\n",
            "Requirement already satisfied: idna<3,>=2.5 in /usr/local/lib/python3.7/dist-packages (from requests->pyTelegramBotAPI) (2.10)\n",
            "Building wheels for collected packages: pyTelegramBotAPI\n",
            "  Building wheel for pyTelegramBotAPI (setup.py) ... \u001b[?25l\u001b[?25hdone\n",
            "  Created wheel for pyTelegramBotAPI: filename=pyTelegramBotAPI-4.6.0-py3-none-any.whl size=140743 sha256=0e300bdeddeed203f9b7fe6efc74b8685e2168bff49c980505380ce241f01feb\n",
            "  Stored in directory: /root/.cache/pip/wheels/6a/97/44/d71f8ee4149d87c457cef044f84d9b40794202b88358ad94dc\n",
            "Successfully built pyTelegramBotAPI\n",
            "Installing collected packages: pyTelegramBotAPI\n",
            "Successfully installed pyTelegramBotAPI-4.6.0\n"
          ]
        }
      ],
      "source": [
        "pip install pyTelegramBotAPI"
      ]
    },
    {
      "cell_type": "code",
      "execution_count": null,
      "metadata": {
        "id": "WwvdFUmqXiYO"
      },
      "outputs": [],
      "source": [
        "from telebot import *\n",
        "import re\n",
        "import random"
      ]
    },
    {
      "cell_type": "code",
      "execution_count": null,
      "metadata": {
        "id": "Fc9mFAB0XkhP"
      },
      "outputs": [],
      "source": [
        "api = '5457876471:AAFxy1hu17_Hs07yQNtnDeKXaiGfUDDY-YA'\n",
        "bot = TeleBot(api)"
      ]
    },
    {
      "cell_type": "code",
      "execution_count": null,
      "metadata": {
        "colab": {
          "base_uri": "https://localhost:8080/"
        },
        "id": "C1c2xN-7aC3d",
        "outputId": "abd1750f-2fb0-4850-ba56-411c6854440b"
      },
      "outputs": [
        {
          "output_type": "stream",
          "name": "stdout",
          "text": [
            "Mounted at /content/drive\n"
          ]
        }
      ],
      "source": [
        "from google.colab import drive\n",
        "drive.mount('/content/drive')"
      ]
    },
    {
      "cell_type": "code",
      "execution_count": null,
      "metadata": {
        "colab": {
          "base_uri": "https://localhost:8080/"
        },
        "id": "e3tcxtMPXmvU",
        "outputId": "7fd31dbb-8dc0-443e-9f85-cff5b2675bbc"
      },
      "outputs": [
        {
          "metadata": {
            "tags": null
          },
          "name": "stderr",
          "output_type": "stream",
          "text": [
            "2022-07-22 06:56:34,424 (__init__.py:574 MainThread) ERROR - TeleBot: \"Infinity polling exception: reply_to() takes 3 positional arguments but 4 were given\"\n",
            "2022-07-22 06:56:34,429 (__init__.py:576 MainThread) ERROR - TeleBot: \"Exception traceback:\n",
            "Traceback (most recent call last):\n",
            "  File \"/usr/local/lib/python3.7/dist-packages/telebot/__init__.py\", line 571, in infinity_polling\n",
            "    logger_level=logger_level, allowed_updates=allowed_updates, *args, **kwargs)\n",
            "  File \"/usr/local/lib/python3.7/dist-packages/telebot/__init__.py\", line 622, in polling\n",
            "    logger_level=logger_level, allowed_updates=allowed_updates)\n",
            "  File \"/usr/local/lib/python3.7/dist-packages/telebot/__init__.py\", line 695, in __threaded_polling\n",
            "    raise e\n",
            "  File \"/usr/local/lib/python3.7/dist-packages/telebot/__init__.py\", line 651, in __threaded_polling\n",
            "    self.worker_pool.raise_exceptions()\n",
            "  File \"/usr/local/lib/python3.7/dist-packages/telebot/util.py\", line 147, in raise_exceptions\n",
            "    raise self.exception_info\n",
            "  File \"/usr/local/lib/python3.7/dist-packages/telebot/util.py\", line 93, in run\n",
            "    task(*args, **kwargs)\n",
            "  File \"<ipython-input-5-d87f39fbfad3>\", line 4, in permulaan\n",
            "    bot.reply_to(message, 'Selamat datang',pengguna)\n",
            "TypeError: reply_to() takes 3 positional arguments but 4 were given\n",
            "\"\n",
            "2022-07-22 06:56:37,437 (__init__.py:574 MainThread) ERROR - TeleBot: \"Infinity polling exception: reply_to() takes 3 positional arguments but 4 were given\"\n",
            "2022-07-22 06:56:37,439 (__init__.py:576 MainThread) ERROR - TeleBot: \"Exception traceback:\n",
            "Traceback (most recent call last):\n",
            "  File \"/usr/local/lib/python3.7/dist-packages/telebot/__init__.py\", line 571, in infinity_polling\n",
            "    logger_level=logger_level, allowed_updates=allowed_updates, *args, **kwargs)\n",
            "  File \"/usr/local/lib/python3.7/dist-packages/telebot/__init__.py\", line 622, in polling\n",
            "    logger_level=logger_level, allowed_updates=allowed_updates)\n",
            "  File \"/usr/local/lib/python3.7/dist-packages/telebot/__init__.py\", line 695, in __threaded_polling\n",
            "    raise e\n",
            "  File \"/usr/local/lib/python3.7/dist-packages/telebot/__init__.py\", line 651, in __threaded_polling\n",
            "    self.worker_pool.raise_exceptions()\n",
            "  File \"/usr/local/lib/python3.7/dist-packages/telebot/util.py\", line 147, in raise_exceptions\n",
            "    raise self.exception_info\n",
            "  File \"/usr/local/lib/python3.7/dist-packages/telebot/util.py\", line 93, in run\n",
            "    task(*args, **kwargs)\n",
            "  File \"<ipython-input-5-d87f39fbfad3>\", line 4, in permulaan\n",
            "    bot.reply_to(message, 'Selamat datang',pengguna)\n",
            "TypeError: reply_to() takes 3 positional arguments but 4 were given\n",
            "\"\n",
            "2022-07-22 06:57:33,767 (__init__.py:574 MainThread) ERROR - TeleBot: \"Infinity polling exception: reply_to() takes 3 positional arguments but 4 were given\"\n",
            "2022-07-22 06:57:33,769 (__init__.py:576 MainThread) ERROR - TeleBot: \"Exception traceback:\n",
            "Traceback (most recent call last):\n",
            "  File \"/usr/local/lib/python3.7/dist-packages/telebot/__init__.py\", line 571, in infinity_polling\n",
            "    logger_level=logger_level, allowed_updates=allowed_updates, *args, **kwargs)\n",
            "  File \"/usr/local/lib/python3.7/dist-packages/telebot/__init__.py\", line 622, in polling\n",
            "    logger_level=logger_level, allowed_updates=allowed_updates)\n",
            "  File \"/usr/local/lib/python3.7/dist-packages/telebot/__init__.py\", line 695, in __threaded_polling\n",
            "    raise e\n",
            "  File \"/usr/local/lib/python3.7/dist-packages/telebot/__init__.py\", line 651, in __threaded_polling\n",
            "    self.worker_pool.raise_exceptions()\n",
            "  File \"/usr/local/lib/python3.7/dist-packages/telebot/util.py\", line 147, in raise_exceptions\n",
            "    raise self.exception_info\n",
            "  File \"/usr/local/lib/python3.7/dist-packages/telebot/util.py\", line 93, in run\n",
            "    task(*args, **kwargs)\n",
            "  File \"<ipython-input-5-d87f39fbfad3>\", line 4, in permulaan\n",
            "    bot.reply_to(message, 'Selamat datang',pengguna)\n",
            "TypeError: reply_to() takes 3 positional arguments but 4 were given\n",
            "\"\n"
          ]
        }
      ],
      "source": [
        "@bot.message_handler(commands=['start'])\n",
        "def permulaan(message):\n",
        "  pengguna = message.from_user.username\n",
        "  bot.reply_to(message, 'Selamat datang',pengguna)\n",
        "  markups = types.ReplyKeyboardMarkup()\n",
        "  item1 = types.KeyboardButton('/bantuan')\n",
        "  item2 = types.KeyboardButton('/start')\n",
        "  item3 = types.KeyboardButton('/logo')\n",
        "  markups.row(item1, item3)\n",
        "  markups.row(item2)\n",
        "  bot.reply_to(message, 'Silakan pilih dari menu yang tersedia', reply_markup = markups)\n",
        "\n",
        "\n",
        "@bot.message_handler(commands=['bantuan'])\n",
        "def bantuan(message):\n",
        "  bot.reply_to(message, \"Ini merupakan chatbot sederhana yang dapat menampilkan gambar dan percakapan dengan bot penjual tiket pesawat\")\n",
        "\n",
        "@bot.message_handler(commands=['logo'])\n",
        "def bantuan(message):\n",
        "  chatid = message.chat.id\n",
        "  logoIFUMBdg = '/content/drive/MyDrive/UASCHATBOX/logoif.png'\n",
        "  bot.send_photo(chatid, open(logoIFUMBdg, 'rb'))\n",
        "  bot.reply_to(message, \"Logo Teknik Informatika FST UMBandung\")\n",
        "\n",
        "  #chatbot\n",
        "@bot.message_handler(content_types=['text'])\n",
        "def chatbot(message):\n",
        "  pengguna = message.from_user.username\n",
        "  teks = message.text\n",
        "  if re.findall('halo|hai|Halo|Hai', teks):\n",
        "    chatid = message.chat.id\n",
        "    bot.send_message(chatid, 'Waalaikumsalam', pengguna)\n",
        "  else:\n",
        "    chatid = message.chat.id\n",
        "    bot.send_message(chatid, 'Pesan tidak dikenali')\n",
        "\n",
        "bot.infinity_polling()"
      ]
    }
  ],
  "metadata": {
    "colab": {
      "collapsed_sections": [],
      "name": "HarekaRezabot.ipynb",
      "provenance": [],
      "include_colab_link": true
    },
    "kernelspec": {
      "display_name": "Python 3",
      "name": "python3"
    },
    "language_info": {
      "name": "python"
    }
  },
  "nbformat": 4,
  "nbformat_minor": 0
}